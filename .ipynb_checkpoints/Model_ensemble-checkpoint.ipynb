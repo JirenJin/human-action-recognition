{
 "cells": [
  {
   "cell_type": "code",
   "execution_count": 29,
   "metadata": {
    "collapsed": false
   },
   "outputs": [
    {
     "data": {
      "text/plain": [
       "ConfusionMatrix:\n",
       "[[     443      23       0       0       0       0]   95.064% \t[class: WALKING]\n",
       " [       0     409       0       0       0       0]   100.000% \t[class: WALKING_UPSTAIRS]\n",
       " [       5      19     344       0       0       0]   93.478% \t[class: WALKING_DOWNSTAIRS]\n",
       " [       0       0       0     383      32       0]   92.289% \t[class: SITTING]\n",
       " [       0       0       0       1     475       0]   99.790% \t[class: STANDING]\n",
       " [       0       0       0      10       0     456]]  97.854% \t[class: LAYING]\n",
       " + average row correct: 96.412631869316% \n",
       " + average rowUcol correct (VOC measure): 93.247490127881% \n",
       " + global correct: 96.538461538462%\n",
       "{\n",
       "  valids : FloatTensor - size: 6\n",
       "  mat : LongTensor - size: 6x6\n",
       "  averageUnionValid : 0.93247490127881\n",
       "  _targ_idx : LongTensor - empty\n",
       "  averageValid : 0.96412631869316\n",
       "  classes : \n",
       "    {\n",
       "      1 : WALKING\n",
       "      2 : WALKING_UPSTAIRS\n",
       "      3 : WALKING_DOWNSTAIRS\n",
       "      4 : SITTING\n",
       "      5 : STANDING\n",
       "      6 : LAYING\n",
       "    }\n",
       "  _prediction : FloatTensor - size: 6\n",
       "  _pred_idx : LongTensor - size: 1\n",
       "  nclasses : 6\n",
       "  _max : FloatTensor - size: 1\n",
       "  _target : FloatTensor - empty\n",
       "  unionvalids : FloatTensor - size: 6\n",
       "  totalValid : 0.96538461538462\n",
       "}\n",
       "val_accuracy: 96.538461538462%\t\n"
      ]
     },
     "execution_count": 29,
     "metadata": {},
     "output_type": "execute_result"
    }
   ],
   "source": [
    "require 'hdf5'\n",
    "require 'torch'\n",
    "require 'cutorch'\n",
    "require 'cunn'\n",
    "require 'optim'\n",
    "require 'xlua'\n",
    "require 'paths'\n",
    "require 'unsup'\n",
    "\n",
    "c = torch.load('master_experiments/2016-01-17-13-50/workers/worker-96.608231707317.t7')\n",
    "\n",
    "-- define target classes\n",
    "classes = {'WALKING', 'WALKING_UPSTAIRS', 'WALKING_DOWNSTAIRS', 'SITTING',\n",
    "'STANDING', 'LAYING'}\n",
    "-- this matrix records the current confusion across classes\n",
    "confusion = optim.ConfusionMatrix(classes)\n",
    "confusion:zero()\n",
    "\n",
    "-- load validation and test data\n",
    "myFile = hdf5.open(\"data.hdf5\", 'r')\n",
    "train_x = myFile:read('train_x'):all()\n",
    "train_y = myFile:read('train_y'):all():cuda()\n",
    "val_x = myFile:read('val_x'):all()\n",
    "val_y = myFile:read('val_y'):all():cuda()\n",
    "test_x = myFile:read('test_x'):all()\n",
    "-- zca whitening for train data, \n",
    "-- also store mean, and p matrix for validation and test data transformation\n",
    "train_x, zca_mean, zca_p, zca_invp = unsup.zca_whiten(train_x)\n",
    "val_x = unsup.zca_whiten(val_x, zca_mean, zca_p, zca_invp)\n",
    "test_x = unsup.zca_whiten(test_x, zca_mean, zca_p, zca_invp)\n",
    "train_x = train_x:cuda()\n",
    "val_x = val_x:cuda()\n",
    "test_x = test_x:cuda()\n",
    "myFile:close()\n",
    "collectgarbage()\n",
    "\n",
    "-- load models for ensembling\n",
    "\n",
    "-- Code by David Kastrup\n",
    "require \"lfs\"\n",
    "\n",
    "function dirtree(dir)\n",
    "  assert(dir and dir ~= \"\", \"directory parameter is missing or empty\")\n",
    "  if string.sub(dir, -1) == \"/\" then\n",
    "    dir=string.sub(dir, 1, -2)\n",
    "  end\n",
    "\n",
    "  local function yieldtree(dir)\n",
    "    for entry in lfs.dir(dir) do\n",
    "      if entry ~= \".\" and entry ~= \"..\" then\n",
    "        entry=dir..\"/\"..entry\n",
    "\tlocal attr=lfs.attributes(entry)\n",
    "\tcoroutine.yield(entry,attr)\n",
    "\tif attr.mode == \"directory\" then\n",
    "\t  yieldtree(entry)\n",
    "\tend\n",
    "      end\n",
    "    end\n",
    "  end\n",
    "\n",
    "  return coroutine.wrap(function() yieldtree(dir) end)\n",
    "end\n",
    "\n",
    "worker_list = {}\n",
    "i = 1\n",
    "for filename in dirtree(\"./master_experiments/2016-01-17-14-13/workers\") do\n",
    "    worker_list[i] = filename\n",
    "    i = i + 1\n",
    "end\n",
    "table.sort(worker_list)\n",
    "\n",
    "models = {}\n",
    "for i = 1, 1 do\n",
    "    models[i] = torch.load(worker_list[#worker_list - i + 1])['model']:cuda()\n",
    "end\n",
    "--[[models = {\n",
    "    --torch.load(\"master_experiments/2016-01-17-14-13/workers/worker-97.005208333333.t7\")['model']:cuda(),\n",
    "    --torch.load(\"master_experiments/2016-01-17-14-13/workers/worker-96.653846153846.t7\")['model']:cuda(),\n",
    "    torch.load(\"master_experiments/2016-01-17-14-13/workers/worker-96.056547619048.t7\")['model']:cuda(),\n",
    "    --torch.load(\"master_experiments/2016-01-17-14-13/workers/worker-95.807926829268.t7\")['model']:cuda(),\n",
    "    --torch.load(\"master_experiments/2016-01-17-14-13/workers/worker-95.667613636364.t7\")['model']:cuda(),\n",
    "    --torch.load(\"master_experiments/2016-01-17-14-13/workers/worker-95.525568181818.t7\")['model']:cuda(),\n",
    "    --torch.load(\"master_experiments/2016-01-17-14-13/workers/worker-95.46130952381.t7\")['model']:cuda(),\n",
    "    --torch.load(\"master_experiments/2016-01-17-14-13/workers/worker-92.48046875.t7\")['model']:cuda(),\n",
    "    }--]]\n",
    "\n",
    "function val()\n",
    "    preds = torch.Tensor(val_x:size(1), #classes):zero()\n",
    "    for m = 1, #models do\n",
    "        models[m]:evaluate()\n",
    "        for i=1, val_x:size(1) do\n",
    "            pred = models[m]:forward(val_x[i]):double()\n",
    "            preds[i] = preds[i] + pred\n",
    "        end\n",
    "    end\n",
    "    for i=1, preds:size(1) do\n",
    "        confusion:add(preds[i], val_y[i])\n",
    "    end\n",
    "    \n",
    "    print(confusion)\n",
    "    val_accuracy = confusion.totalValid * 100\n",
    "    -- reset confusion matrix\n",
    "    confusion:zero()\n",
    "    print('val_accuracy: ' .. val_accuracy .. '%')\n",
    "\n",
    "    return val_accuracy\n",
    "end\n",
    "\n",
    "function ensemble_predict()\n",
    "    preds = torch.FloatTensor(test_x:size(1),#classes):zero()\n",
    "    \n",
    "    for m = 1, #models do\n",
    "        models[m]:evaluate()\n",
    "        for i=1, test_x:size(1) do\n",
    "            pred = models[m]:forward(test_x[i]):float()\n",
    "            preds[i] = preds[i] + pred\n",
    "        end\n",
    "    end\n",
    "    local f = torch.DiskFile('ensemble_results/result-ensemble-' .. ensemble_val .. '.txt', 'w')\n",
    "    for i=1, preds:size(1) do\n",
    "        max_v, max_i = torch.max(preds[i], 1)\n",
    "        f:writeFloat(max_i[1])\n",
    "    end\n",
    "    f:close()\n",
    "end\n",
    "\n",
    "\n",
    "ensemble_val = val()\n",
    "\n",
    "ensemble_predict()"
   ]
  },
  {
   "cell_type": "markdown",
   "metadata": {},
   "source": [
    "- maybe the difference is because we use mini-batch validation previously, and now we are using online validation."
   ]
  },
  {
   "cell_type": "code",
   "execution_count": 165,
   "metadata": {
    "collapsed": false
   },
   "outputs": [],
   "source": [
    "acc = torch.load(\"master_experiments/2016-01-17-14-13/workers/worker-97.005208333333.t7\")['val_acc']"
   ]
  },
  {
   "cell_type": "code",
   "execution_count": 3,
   "metadata": {
    "collapsed": false
   },
   "outputs": [
    {
     "data": {
      "text/plain": [
       "{\n",
       "  _VERSION : LuaFileSystem 1.6.3\n",
       "  _DESCRIPTION : LuaFileSystem is a Lua library developed to complement the set of functions related to file systems offered by the standard Lua distribution\n",
       "  _COPYRIGHT : Copyright (C) 2003-2012 Kepler Project\n",
       "  mkdir : function: 0x41a2c4c8\n",
       "  currentdir : function: 0x41a2c450\n",
       "  lock_dir : function: 0x41a2c860\n",
       "  chdir : function: 0x41a2c408\n",
       "  unlock : function: 0x41a2c5e0\n",
       "  lock : function: 0x41a2c4a0\n",
       "  dir : function: 0x41a2c3d0\n",
       "  touch : function: 0x41a2c598\n",
       "  setmode : function: 0x41a2c550\n",
       "  symlinkattributes : function: 0x41a2c680\n",
       "  rmdir : function: 0x41a2c638\n",
       "  attributes : function: 0x41a2c3a8\n",
       "  link : function: 0x41a2c508\n",
       "}\n"
      ]
     },
     "execution_count": 3,
     "metadata": {},
     "output_type": "execute_result"
    }
   ],
   "source": [
    "require \"lfs\""
   ]
  },
  {
   "cell_type": "code",
   "execution_count": 11,
   "metadata": {
    "collapsed": false
   },
   "outputs": [],
   "source": []
  },
  {
   "cell_type": "code",
   "execution_count": 18,
   "metadata": {
    "collapsed": false
   },
   "outputs": [],
   "source": [
    "table.sort(worker_list)"
   ]
  },
  {
   "cell_type": "code",
   "execution_count": 20,
   "metadata": {
    "collapsed": false
   },
   "outputs": [
    {
     "data": {
      "text/plain": [
       "{\n",
       "  1 : ./master_experiments/2016-01-17-14-13/workers/worker-17.797256097561.t7\n",
       "  2 : ./master_experiments/2016-01-17-14-13/workers/worker-17.923076923077.t7\n",
       "  3 : ./master_experiments/2016-01-17-14-13/workers/worker-17.949695121951.t7\n",
       "  4 : ./master_experiments/2016-01-17-14-13/workers/worker-18.216463414634.t7\n",
       "  5 : ./master_experiments/2016-01-17-14-13/workers/worker-18.251533742331.t7\n",
       "  6 : ./master_experiments/2016-01-17-14-13/workers/worker-23.704268292683.t7\n",
       "  7 : ./master_experiments/2016-01-17-14-13/workers/worker-27.604166666667.t7\n",
       "  8 : ./master_experiments/2016-01-17-14-13/workers/worker-30.952380952381.t7\n",
       "  9 : ./master_experiments/2016-01-17-14-13/workers/worker-50.1953125.t7\n",
       "  10 : ./master_experiments/2016-01-17-14-13/workers/worker-77.083333333333.t7\n",
       "  11 : ./master_experiments/2016-01-17-14-13/workers/worker-77.678571428571.t7\n",
       "  12 : ./master_experiments/2016-01-17-14-13/workers/worker-78.315548780488.t7\n",
       "  13 : ./master_experiments/2016-01-17-14-13/workers/worker-81.021341463415.t7\n",
       "  14 : ./master_experiments/2016-01-17-14-13/workers/worker-85.518292682927.t7\n",
       "  15 : ./master_experiments/2016-01-17-14-13/workers/worker-87.271341463415.t7\n",
       "  16 : ./master_experiments/2016-01-17-14-13/workers/worker-87.923076923077.t7\n",
       "  17 : ./master_experiments/2016-01-17-14-13/workers/worker-90.461538461538.t7\n",
       "  18 : ./master_experiments/2016-01-17-14-13/workers/worker-90.769230769231.t7\n",
       "  19 : ./master_experiments/2016-01-17-14-13/workers/worker-91.048177083333.t7\n",
       "  20 : ./master_experiments/2016-01-17-14-13/workers/worker-92.48046875.t7\n",
       "  21 : ./master_experiments/2016-01-17-14-13/workers/worker-93.821022727273.t7\n",
       "  22 : ./master_experiments/2016-01-17-14-13/workers/worker-94.159226190476.t7\n",
       "  23 : ./master_experiments/2016-01-17-14-13/workers/worker-94.359756097561.t7\n",
       "  24 : ./master_experiments/2016-01-17-14-13/workers/worker-94.673295454545.t7\n",
       "  25 : ./master_experiments/2016-01-17-14-13/workers/worker-94.969512195122.t7\n",
       "  26 : ./master_experiments/2016-01-17-14-13/workers/worker-95.00762195122.t7\n",
       "  27 : ./master_experiments/2016-01-17-14-13/workers/worker-95.045731707317.t7\n",
       "  28 : ./master_experiments/2016-01-17-14-13/workers/worker-95.121951219512.t7\n",
       "  29 : ./master_experiments/2016-01-17-14-13/workers/worker-95.345052083333.t7\n",
       "  30 : ./master_experiments/2016-01-17-14-13/workers/worker-95.46130952381.t7\n",
       "  31 : ./master_experiments/2016-01-17-14-13/workers/worker-95.525568181818.t7\n",
       "  32 : ./master_experiments/2016-01-17-14-13/workers/worker-95.60546875.t7\n",
       "  33 : ./master_experiments/2016-01-17-14-13/workers/worker-95.653846153846.t7\n",
       "  34 : ./master_experiments/2016-01-17-14-13/workers/worker-95.667613636364.t7\n",
       "  35 : ./master_experiments/2016-01-17-14-13/workers/worker-95.758928571429.t7\n",
       "  36 : ./master_experiments/2016-01-17-14-13/workers/worker-95.769817073171.t7\n",
       "  37 : ./master_experiments/2016-01-17-14-13/workers/worker-95.807926829268.t7\n",
       "  38 : ./master_experiments/2016-01-17-14-13/workers/worker-96.056547619048.t7\n",
       "  39 : ./master_experiments/2016-01-17-14-13/workers/worker-96.230769230769.t7\n",
       "  40 : ./master_experiments/2016-01-17-14-13/workers/worker-96.24255952381.t7\n",
       "  41 : ./master_experiments/2016-01-17-14-13/workers/worker-96.38671875.t7\n",
       "  42 : ./master_experiments/2016-01-17-14-13/workers/worker-96.614583333333.t7\n",
       "  43 : ./master_experiments/2016-01-17-14-13/workers/worker-96.653846153846.t7\n",
       "  44 : ./master_experiments/2016-01-17-14-13/workers/worker-96.779141104294.t7\n",
       "  45 : ./master_experiments/2016-01-17-14-13/workers/worker-97.005208333333.t7\n",
       "}\n"
      ]
     },
     "execution_count": 20,
     "metadata": {},
     "output_type": "execute_result"
    }
   ],
   "source": [
    "print(worker_list)"
   ]
  },
  {
   "cell_type": "code",
   "execution_count": null,
   "metadata": {
    "collapsed": true
   },
   "outputs": [],
   "source": []
  }
 ],
 "metadata": {
  "kernelspec": {
   "display_name": "iTorch",
   "language": "lua",
   "name": "itorch"
  },
  "language_info": {
   "name": "lua",
   "version": "20100"
  }
 },
 "nbformat": 4,
 "nbformat_minor": 0
}
