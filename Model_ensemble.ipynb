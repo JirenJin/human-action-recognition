{
 "cells": [
  {
   "cell_type": "code",
   "execution_count": 4,
   "metadata": {
    "collapsed": false
   },
   "outputs": [
    {
     "data": {
      "text/plain": [
       "ConfusionMatrix:\n",
       "[[     455      11       0       0       0       0]   97.639% \t[class: WALKING]\n",
       " [       2     407       0       0       0       0]   99.511% \t[class: WALKING_UPSTAIRS]\n",
       " [       3      12     353       0       0       0]   95.924% \t[class: WALKING_DOWNSTAIRS]\n",
       " [       0       0       0     389      26       0]   93.735% \t[class: SITTING]\n",
       " [       0       0       0       1     475       0]   99.790% \t[class: STANDING]\n",
       " [       0       0       0       3       0     463]]  99.356% \t[class: LAYING]\n",
       " + average row correct: 97.659246126811% \n",
       " + average rowUcol correct (VOC measure): 95.592945814133% \n",
       " + global correct: 97.769230769231%\n",
       "{\n",
       "  valids : FloatTensor - size: 6\n",
       "  mat : LongTensor - size: 6x6\n",
       "  averageUnionValid : 0.95592945814133\n",
       "  _targ_idx : LongTensor - empty\n",
       "  averageValid : 0.97659246126811\n",
       "  classes : \n",
       "    {\n",
       "      1 : WALKING\n",
       "      2 : WALKING_UPSTAIRS\n",
       "      3 : WALKING_DOWNSTAIRS\n",
       "      4 : SITTING\n",
       "      5 : STANDING\n",
       "      6 : LAYING\n",
       "    }\n",
       "  _prediction : FloatTensor - size: 6\n",
       "  _pred_idx : LongTensor - size: 1\n",
       "  nclasses : 6\n",
       "  _max : FloatTensor - size: 1\n",
       "  _target : FloatTensor - empty\n",
       "  unionvalids : FloatTensor - size: 6\n",
       "  totalValid : 0.97769230769231\n",
       "}\n",
       "val_accuracy: 97.769230769231%\t\n"
      ]
     },
     "execution_count": 4,
     "metadata": {},
     "output_type": "execute_result"
    }
   ],
   "source": [
    "require 'hdf5'\n",
    "require 'torch'\n",
    "require 'cutorch'\n",
    "require 'cunn'\n",
    "require 'optim'\n",
    "require 'xlua'\n",
    "require 'paths'\n",
    "require 'unsup'\n",
    "\n",
    "c = torch.load('master_experiments/2016-01-17-13-50/workers/worker-96.608231707317.t7')\n",
    "\n",
    "-- define target classes\n",
    "classes = {'WALKING', 'WALKING_UPSTAIRS', 'WALKING_DOWNSTAIRS', 'SITTING',\n",
    "'STANDING', 'LAYING'}\n",
    "-- this matrix records the current confusion across classes\n",
    "confusion = optim.ConfusionMatrix(classes)\n",
    "confusion:zero()\n",
    "\n",
    "-- load validation and test data\n",
    "myFile = hdf5.open(\"data.hdf5\", 'r')\n",
    "train_x = myFile:read('train_x'):all()\n",
    "train_y = myFile:read('train_y'):all():cuda()\n",
    "val_x = myFile:read('val_x'):all()\n",
    "val_y = myFile:read('val_y'):all():cuda()\n",
    "test_x = myFile:read('test_x'):all()\n",
    "-- zca whitening for train data, \n",
    "-- also store mean, and p matrix for validation and test data transformation\n",
    "train_x, zca_mean, zca_p, zca_invp = unsup.zca_whiten(train_x)\n",
    "val_x = unsup.zca_whiten(val_x, zca_mean, zca_p, zca_invp)\n",
    "test_x = unsup.zca_whiten(test_x, zca_mean, zca_p, zca_invp)\n",
    "train_x = train_x:cuda()\n",
    "val_x = val_x:cuda()\n",
    "test_x = test_x:cuda()\n",
    "myFile:close()\n",
    "collectgarbage()\n",
    "\n",
    "-- load models for ensembling\n",
    "\n",
    "-- Code by David Kastrup\n",
    "require \"lfs\"\n",
    "\n",
    "function dirtree(dir)\n",
    "  assert(dir and dir ~= \"\", \"directory parameter is missing or empty\")\n",
    "  if string.sub(dir, -1) == \"/\" then\n",
    "    dir=string.sub(dir, 1, -2)\n",
    "  end\n",
    "\n",
    "  local function yieldtree(dir)\n",
    "    for entry in lfs.dir(dir) do\n",
    "      if entry ~= \".\" and entry ~= \"..\" then\n",
    "        entry=dir..\"/\"..entry\n",
    "\tlocal attr=lfs.attributes(entry)\n",
    "\tcoroutine.yield(entry,attr)\n",
    "\tif attr.mode == \"directory\" then\n",
    "\t  yieldtree(entry)\n",
    "\tend\n",
    "      end\n",
    "    end\n",
    "  end\n",
    "\n",
    "  return coroutine.wrap(function() yieldtree(dir) end)\n",
    "end\n",
    "\n",
    "worker_list = {}\n",
    "i = 1\n",
    "for filename in dirtree(\"./master_experiments/2016-01-17-14-13/workers\") do\n",
    "    worker_list[i] = filename\n",
    "    i = i + 1\n",
    "end\n",
    "table.sort(worker_list)\n",
    "\n",
    "models = {}\n",
    "for i = 1, 7 do\n",
    "    models[i] = torch.load(worker_list[#worker_list - i + 1])['model']:cuda()\n",
    "end\n",
    "--[[models = {\n",
    "    --torch.load(\"master_experiments/2016-01-17-14-13/workers/worker-97.005208333333.t7\")['model']:cuda(),\n",
    "    --torch.load(\"master_experiments/2016-01-17-14-13/workers/worker-96.653846153846.t7\")['model']:cuda(),\n",
    "    torch.load(\"master_experiments/2016-01-17-14-13/workers/worker-96.056547619048.t7\")['model']:cuda(),\n",
    "    --torch.load(\"master_experiments/2016-01-17-14-13/workers/worker-95.807926829268.t7\")['model']:cuda(),\n",
    "    --torch.load(\"master_experiments/2016-01-17-14-13/workers/worker-95.667613636364.t7\")['model']:cuda(),\n",
    "    --torch.load(\"master_experiments/2016-01-17-14-13/workers/worker-95.525568181818.t7\")['model']:cuda(),\n",
    "    --torch.load(\"master_experiments/2016-01-17-14-13/workers/worker-95.46130952381.t7\")['model']:cuda(),\n",
    "    --torch.load(\"master_experiments/2016-01-17-14-13/workers/worker-92.48046875.t7\")['model']:cuda(),\n",
    "    }--]]\n",
    "\n",
    "function val()\n",
    "    preds = torch.Tensor(val_x:size(1), #classes):zero()\n",
    "    for m = 1, #models do\n",
    "        models[m]:evaluate()\n",
    "        for i=1, val_x:size(1) do\n",
    "            pred = models[m]:forward(val_x[i]):double()\n",
    "            preds[i] = preds[i] + pred\n",
    "        end\n",
    "    end\n",
    "    for i=1, preds:size(1) do\n",
    "        confusion:add(preds[i], val_y[i])\n",
    "    end\n",
    "    \n",
    "    print(confusion)\n",
    "    val_accuracy = confusion.totalValid * 100\n",
    "    -- reset confusion matrix\n",
    "    confusion:zero()\n",
    "    print('val_accuracy: ' .. val_accuracy .. '%')\n",
    "\n",
    "    return val_accuracy\n",
    "end\n",
    "\n",
    "function ensemble_predict()\n",
    "    preds = torch.FloatTensor(test_x:size(1),#classes):zero()\n",
    "    \n",
    "    for m = 1, #models do\n",
    "        models[m]:evaluate()\n",
    "        for i=1, test_x:size(1) do\n",
    "            pred = models[m]:forward(test_x[i]):float()\n",
    "            preds[i] = preds[i] + pred\n",
    "        end\n",
    "    end\n",
    "    local f = torch.DiskFile('ensemble_results/result-ensemble-' .. ensemble_val .. '.txt', 'w')\n",
    "    for i=1, preds:size(1) do\n",
    "        max_v, max_i = torch.max(preds[i], 1)\n",
    "        f:writeFloat(max_i[1])\n",
    "    end\n",
    "    f:close()\n",
    "end\n",
    "\n",
    "\n",
    "ensemble_val = val()\n",
    "\n",
    "ensemble_predict()"
   ]
  },
  {
   "cell_type": "markdown",
   "metadata": {},
   "source": [
    "- maybe the difference is because we use mini-batch validation previously, and now we are using online validation."
   ]
  },
  {
   "cell_type": "code",
   "execution_count": null,
   "metadata": {
    "collapsed": false
   },
   "outputs": [],
   "source": [
    "acc = torch.load(\"master_experiments/2016-01-17-14-13/workers/worker-97.005208333333.t7\")['val_acc']"
   ]
  },
  {
   "cell_type": "code",
   "execution_count": null,
   "metadata": {
    "collapsed": false
   },
   "outputs": [],
   "source": [
    "require \"lfs\""
   ]
  },
  {
   "cell_type": "code",
   "execution_count": null,
   "metadata": {
    "collapsed": false
   },
   "outputs": [],
   "source": []
  },
  {
   "cell_type": "code",
   "execution_count": null,
   "metadata": {
    "collapsed": false
   },
   "outputs": [],
   "source": [
    "table.sort(worker_list)"
   ]
  },
  {
   "cell_type": "code",
   "execution_count": null,
   "metadata": {
    "collapsed": false
   },
   "outputs": [],
   "source": [
    "print(worker_list)"
   ]
  },
  {
   "cell_type": "code",
   "execution_count": null,
   "metadata": {
    "collapsed": true
   },
   "outputs": [],
   "source": []
  }
 ],
 "metadata": {
  "kernelspec": {
   "display_name": "iTorch",
   "language": "lua",
   "name": "itorch"
  },
  "language_info": {
   "name": "lua",
   "version": "20100"
  }
 },
 "nbformat": 4,
 "nbformat_minor": 0
}
